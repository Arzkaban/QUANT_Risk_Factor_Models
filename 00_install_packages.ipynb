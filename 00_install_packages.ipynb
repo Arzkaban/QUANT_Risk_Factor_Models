{
 "cells": [
  {
   "cell_type": "markdown",
   "metadata": {},
   "source": [
    "# Install libraries for all code exercises in this lesson\n",
    "\n",
    "It takes about 8 to 9 minutes to install the libraries that are used in the exercises of this lesson.  To make your learning experience a bit smoother, please open this page in a new tab and run this code cell to install, then in your original page, continue onto the next video as the installation is running.  You should only have to install once for this lesson.  If you do \"menu\"->\"reset data\" at some point, you will have to reinstall the libraries again."
   ]
  },
  {
   "cell_type": "code",
   "execution_count": 1,
   "metadata": {},
   "outputs": [
    {
     "name": "stdout",
     "output_type": "stream",
     "text": [
      "Looking in indexes: http://mirrors.aliyun.com/pypi/simple/\n",
      "Collecting numpy==1.14.5 (from -r requirements.txt (line 1))\n",
      "\u001b[?25l  Downloading http://mirrors.aliyun.com/pypi/packages/50/9d/769515cb321d3ab39af31ec14ce26595f929f02078e7d0a54c0410992e5c/numpy-1.14.5-cp35-cp35m-macosx_10_6_intel.macosx_10_9_intel.macosx_10_9_x86_64.macosx_10_10_intel.macosx_10_10_x86_64.whl (4.7MB)\n",
      "\u001b[K    100% |████████████████████████████████| 4.7MB 56.0MB/s ta 0:00:01\n",
      "\u001b[?25hCollecting pandas==0.18.1 (from -r requirements.txt (line 2))\n",
      "\u001b[?25l  Downloading http://mirrors.aliyun.com/pypi/packages/58/12/61cbe10e056a57f6da74947599325be680631d469741b48455e7eaa21d44/pandas-0.18.1-cp35-cp35m-macosx_10_6_intel.macosx_10_9_intel.macosx_10_9_x86_64.macosx_10_10_intel.macosx_10_10_x86_64.whl (9.9MB)\n",
      "\u001b[K    100% |████████████████████████████████| 9.9MB 3.1MB/s ta 0:00:011\n",
      "\u001b[?25hCollecting plotly==2.2.3 (from -r requirements.txt (line 3))\n",
      "\u001b[?25l  Downloading http://mirrors.aliyun.com/pypi/packages/99/a6/8214b6564bf4ace9bec8a26e7f89832792be582c042c47c912d3201328a0/plotly-2.2.3.tar.gz (1.1MB)\n",
      "\u001b[K    100% |████████████████████████████████| 1.1MB 5.1MB/s ta 0:00:011\n",
      "\u001b[?25hCollecting scikit-learn==0.19.1 (from -r requirements.txt (line 4))\n",
      "\u001b[?25l  Downloading http://mirrors.aliyun.com/pypi/packages/5f/14/e1fa556619b2c9c5b9a121c6dad04277675897c870e51f68c2c25bfa197b/scikit_learn-0.19.1-cp35-cp35m-macosx_10_6_intel.macosx_10_9_intel.macosx_10_9_x86_64.macosx_10_10_intel.macosx_10_10_x86_64.whl (7.5MB)\n",
      "\u001b[K    100% |████████████████████████████████| 7.6MB 1.1MB/s ta 0:00:011\n",
      "\u001b[?25hRequirement already satisfied: six==1.11.0 in /anaconda3/envs/env_zipline/lib/python3.5/site-packages (from -r requirements.txt (line 5)) (1.11.0)\n",
      "Collecting zipline===1.2.0 (from -r requirements.txt (line 6))\n",
      "\u001b[?25l  Downloading http://mirrors.aliyun.com/pypi/packages/15/d3/689f2a940478b82ac57c751a40460598221fd82b0449a7a8f7eef47a3bcc/zipline-1.2.0.tar.gz (659kB)\n",
      "\u001b[K    100% |████████████████████████████████| 665kB 3.4MB/s ta 0:00:01\n",
      "\u001b[?25hRequirement already satisfied: pytz>=2011k in /anaconda3/envs/env_zipline/lib/python3.5/site-packages (from pandas==0.18.1->-r requirements.txt (line 2)) (2019.3)\n",
      "Requirement already satisfied: python-dateutil>=2 in /anaconda3/envs/env_zipline/lib/python3.5/site-packages (from pandas==0.18.1->-r requirements.txt (line 2)) (2.8.1)\n",
      "Requirement already satisfied: decorator>=4.0.6 in /anaconda3/envs/env_zipline/lib/python3.5/site-packages (from plotly==2.2.3->-r requirements.txt (line 3)) (4.4.1)\n",
      "Requirement already satisfied: nbformat>=4.2 in /anaconda3/envs/env_zipline/lib/python3.5/site-packages (from plotly==2.2.3->-r requirements.txt (line 3)) (4.4.0)\n",
      "Requirement already satisfied: requests in /anaconda3/envs/env_zipline/lib/python3.5/site-packages (from plotly==2.2.3->-r requirements.txt (line 3)) (2.19.1)\n",
      "Requirement already satisfied: pip>=7.1.0 in /anaconda3/envs/env_zipline/lib/python3.5/site-packages (from zipline===1.2.0->-r requirements.txt (line 6)) (10.0.1)\n",
      "Requirement already satisfied: setuptools>18.0 in /anaconda3/envs/env_zipline/lib/python3.5/site-packages (from zipline===1.2.0->-r requirements.txt (line 6)) (40.2.0)\n",
      "Requirement already satisfied: Logbook>=0.12.5 in /anaconda3/envs/env_zipline/lib/python3.5/site-packages (from zipline===1.2.0->-r requirements.txt (line 6)) (0.12.5)\n",
      "Requirement already satisfied: requests-file>=1.4.1 in /anaconda3/envs/env_zipline/lib/python3.5/site-packages (from zipline===1.2.0->-r requirements.txt (line 6)) (1.4.3)\n",
      "Requirement already satisfied: scipy>=0.17.1 in /anaconda3/envs/env_zipline/lib/python3.5/site-packages (from zipline===1.2.0->-r requirements.txt (line 6)) (1.1.0)\n",
      "Collecting pandas-datareader<0.6,>=0.2.1 (from zipline===1.2.0->-r requirements.txt (line 6))\n",
      "\u001b[?25l  Downloading http://mirrors.aliyun.com/pypi/packages/40/c5/cc720f531bbde0efeab940de400d0fcc95e87770a3abcd7f90d6d52a3302/pandas_datareader-0.5.0-py2.py3-none-any.whl (74kB)\n",
      "\u001b[K    100% |████████████████████████████████| 81kB 3.1MB/s ta 0:00:011\n",
      "\u001b[?25hRequirement already satisfied: patsy>=0.4.0 in /anaconda3/envs/env_zipline/lib/python3.5/site-packages (from zipline===1.2.0->-r requirements.txt (line 6)) (0.5.0)\n",
      "Requirement already satisfied: statsmodels>=0.6.1 in /anaconda3/envs/env_zipline/lib/python3.5/site-packages (from zipline===1.2.0->-r requirements.txt (line 6)) (0.9.0)\n",
      "Requirement already satisfied: Cython>=0.25.2 in /anaconda3/envs/env_zipline/lib/python3.5/site-packages (from zipline===1.2.0->-r requirements.txt (line 6)) (0.28.5)\n",
      "Requirement already satisfied: cyordereddict>=0.2.2 in /anaconda3/envs/env_zipline/lib/python3.5/site-packages (from zipline===1.2.0->-r requirements.txt (line 6)) (0.2.2)\n",
      "Requirement already satisfied: bottleneck>=1.0.0 in /anaconda3/envs/env_zipline/lib/python3.5/site-packages (from zipline===1.2.0->-r requirements.txt (line 6)) (1.2.1)\n",
      "Requirement already satisfied: contextlib2>=0.4.0 in /anaconda3/envs/env_zipline/lib/python3.5/site-packages (from zipline===1.2.0->-r requirements.txt (line 6)) (0.6.0.post1)\n",
      "Requirement already satisfied: networkx<2.0,>=1.9.1 in /anaconda3/envs/env_zipline/lib/python3.5/site-packages (from zipline===1.2.0->-r requirements.txt (line 6)) (1.11)\n",
      "Requirement already satisfied: numexpr>=2.6.1 in /anaconda3/envs/env_zipline/lib/python3.5/site-packages (from zipline===1.2.0->-r requirements.txt (line 6)) (2.6.1)\n",
      "Requirement already satisfied: bcolz<1,>=0.12.1 in /anaconda3/envs/env_zipline/lib/python3.5/site-packages (from zipline===1.2.0->-r requirements.txt (line 6)) (0.12.1)\n",
      "Requirement already satisfied: click>=4.0.0 in /anaconda3/envs/env_zipline/lib/python3.5/site-packages (from zipline===1.2.0->-r requirements.txt (line 6)) (7.0)\n",
      "Requirement already satisfied: toolz>=0.8.2 in /anaconda3/envs/env_zipline/lib/python3.5/site-packages (from zipline===1.2.0->-r requirements.txt (line 6)) (0.10.0)\n",
      "Requirement already satisfied: multipledispatch>=0.4.8 in /anaconda3/envs/env_zipline/lib/python3.5/site-packages (from zipline===1.2.0->-r requirements.txt (line 6)) (0.6.0)\n",
      "Requirement already satisfied: MarkupSafe>=0.23 in /anaconda3/envs/env_zipline/lib/python3.5/site-packages (from zipline===1.2.0->-r requirements.txt (line 6)) (1.0)\n",
      "Requirement already satisfied: Mako>=1.0.1 in /anaconda3/envs/env_zipline/lib/python3.5/site-packages (from zipline===1.2.0->-r requirements.txt (line 6)) (1.1.0)\n",
      "Requirement already satisfied: sqlalchemy>=1.0.8 in /anaconda3/envs/env_zipline/lib/python3.5/site-packages (from zipline===1.2.0->-r requirements.txt (line 6)) (1.2.11)\n",
      "Requirement already satisfied: alembic>=0.7.7 in /anaconda3/envs/env_zipline/lib/python3.5/site-packages (from zipline===1.2.0->-r requirements.txt (line 6)) (0.7.7)\n",
      "Requirement already satisfied: sortedcontainers>=1.4.4 in /anaconda3/envs/env_zipline/lib/python3.5/site-packages (from zipline===1.2.0->-r requirements.txt (line 6)) (2.0.5)\n",
      "Requirement already satisfied: intervaltree>=2.1.0 in /anaconda3/envs/env_zipline/lib/python3.5/site-packages/intervaltree-2.1.0-py3.5.egg (from zipline===1.2.0->-r requirements.txt (line 6)) (2.1.0)\n",
      "Requirement already satisfied: lru-dict>=1.1.4 in /anaconda3/envs/env_zipline/lib/python3.5/site-packages (from zipline===1.2.0->-r requirements.txt (line 6)) (1.1.4)\n",
      "Requirement already satisfied: empyrical>=0.4.2 in /anaconda3/envs/env_zipline/lib/python3.5/site-packages (from zipline===1.2.0->-r requirements.txt (line 6)) (0.5.0)\n",
      "Requirement already satisfied: tables>=3.3.0 in /anaconda3/envs/env_zipline/lib/python3.5/site-packages (from zipline===1.2.0->-r requirements.txt (line 6)) (3.4.4)\n",
      "Requirement already satisfied: ipython_genutils in /anaconda3/envs/env_zipline/lib/python3.5/site-packages (from nbformat>=4.2->plotly==2.2.3->-r requirements.txt (line 3)) (0.2.0)\n",
      "Requirement already satisfied: traitlets>=4.1 in /anaconda3/envs/env_zipline/lib/python3.5/site-packages (from nbformat>=4.2->plotly==2.2.3->-r requirements.txt (line 3)) (4.3.2)\n",
      "Requirement already satisfied: jsonschema!=2.5.0,>=2.4 in /anaconda3/envs/env_zipline/lib/python3.5/site-packages (from nbformat>=4.2->plotly==2.2.3->-r requirements.txt (line 3)) (2.6.0)\n",
      "Requirement already satisfied: jupyter_core in /anaconda3/envs/env_zipline/lib/python3.5/site-packages (from nbformat>=4.2->plotly==2.2.3->-r requirements.txt (line 3)) (4.5.0)\n",
      "Requirement already satisfied: urllib3<1.24,>=1.21.1 in /anaconda3/envs/env_zipline/lib/python3.5/site-packages (from requests->plotly==2.2.3->-r requirements.txt (line 3)) (1.23)\n",
      "Requirement already satisfied: idna<2.8,>=2.5 in /anaconda3/envs/env_zipline/lib/python3.5/site-packages (from requests->plotly==2.2.3->-r requirements.txt (line 3)) (2.7)\n",
      "Requirement already satisfied: chardet<3.1.0,>=3.0.2 in /anaconda3/envs/env_zipline/lib/python3.5/site-packages (from requests->plotly==2.2.3->-r requirements.txt (line 3)) (3.0.4)\n",
      "Requirement already satisfied: certifi>=2017.4.17 in /anaconda3/envs/env_zipline/lib/python3.5/site-packages (from requests->plotly==2.2.3->-r requirements.txt (line 3)) (2018.8.24)\n"
     ]
    },
    {
     "name": "stdout",
     "output_type": "stream",
     "text": [
      "Collecting requests-ftp (from pandas-datareader<0.6,>=0.2.1->zipline===1.2.0->-r requirements.txt (line 6))\n",
      "  Downloading http://mirrors.aliyun.com/pypi/packages/3d/ca/14b2ad1e93b5195eeaf56b86b7ecfd5ea2d5754a68d17aeb1e5b9f95b3cf/requests-ftp-0.3.1.tar.gz\n",
      "Building wheels for collected packages: plotly, zipline, requests-ftp\n",
      "  Running setup.py bdist_wheel for plotly ... \u001b[?25ldone\n",
      "\u001b[?25h  Stored in directory: /Users/tianjili/Library/Caches/pip/wheels/ff/5b/b5/462cce5a46f3d69c35788a45dc961217ae645d22e46bc67522\n",
      "  Running setup.py bdist_wheel for zipline ... \u001b[?25ldone\n",
      "\u001b[?25h  Stored in directory: /Users/tianjili/Library/Caches/pip/wheels/d9/a2/90/476951c3c6e387832cc9388b5cd737271ed9dd27588bb01e81\n",
      "  Running setup.py bdist_wheel for requests-ftp ... \u001b[?25ldone\n",
      "\u001b[?25h  Stored in directory: /Users/tianjili/Library/Caches/pip/wheels/65/78/cd/949859fb93ad461e04532febe1f3c69e5e6616763d20c6f988\n",
      "Successfully built plotly zipline requests-ftp\n",
      "Installing collected packages: numpy, pandas, plotly, scikit-learn, requests-ftp, pandas-datareader, zipline\n",
      "  Found existing installation: numpy 1.14.2\n",
      "    Uninstalling numpy-1.14.2:\n",
      "      Successfully uninstalled numpy-1.14.2\n",
      "  Found existing installation: pandas 0.22.0\n",
      "    Uninstalling pandas-0.22.0:\n",
      "      Successfully uninstalled pandas-0.22.0\n",
      "  Found existing installation: pandas-datareader 0.8.1\n",
      "    Uninstalling pandas-datareader-0.8.1:\n",
      "      Successfully uninstalled pandas-datareader-0.8.1\n",
      "  Found existing installation: zipline 1.3.0\n",
      "    Uninstalling zipline-1.3.0:\n",
      "      Successfully uninstalled zipline-1.3.0\n",
      "Successfully installed numpy-1.14.5 pandas-0.18.1 pandas-datareader-0.5.0 plotly-2.2.3 requests-ftp-0.3.1 scikit-learn-0.19.1 zipline-1.2.0\n",
      "\u001b[33mYou are using pip version 10.0.1, however version 19.3.1 is available.\n",
      "You should consider upgrading via the 'pip install --upgrade pip' command.\u001b[0m\n"
     ]
    }
   ],
   "source": [
    "import sys\n",
    "!{sys.executable} -m pip install -r requirements.txt"
   ]
  },
  {
   "cell_type": "code",
   "execution_count": 2,
   "metadata": {},
   "outputs": [
    {
     "name": "stdout",
     "output_type": "stream",
     "text": [
      "\n",
      "The following command must be run outside of the IPython shell:\n",
      "\n",
      "    $ pip list\n",
      "\n",
      "The Python package manager (pip) can only be used from outside of IPython.\n",
      "Please reissue the `pip` command in a separate terminal or command prompt.\n",
      "\n",
      "See the Python documentation for more information on how to install packages:\n",
      "\n",
      "    https://docs.python.org/3/installing/\n"
     ]
    }
   ],
   "source": []
  },
  {
   "cell_type": "code",
   "execution_count": null,
   "metadata": {},
   "outputs": [],
   "source": []
  }
 ],
 "metadata": {
  "kernelspec": {
   "display_name": "Python 3",
   "language": "python",
   "name": "python3"
  },
  "language_info": {
   "codemirror_mode": {
    "name": "ipython",
    "version": 3
   },
   "file_extension": ".py",
   "mimetype": "text/x-python",
   "name": "python",
   "nbconvert_exporter": "python",
   "pygments_lexer": "ipython3",
   "version": "3.5.6"
  }
 },
 "nbformat": 4,
 "nbformat_minor": 2
}
